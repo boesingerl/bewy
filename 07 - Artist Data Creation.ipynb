{
 "cells": [
  {
   "cell_type": "markdown",
   "metadata": {},
   "source": [
    "# Goal of the Notebook\n",
    "\n",
    "Since our Collaborative Recommender based on Tracks performs not as good as we would want it to, we propose to explore a new method : Creating a Collaborative Recommender based on Artists. \n",
    "\n",
    "Since the 360K Dataset contains much more data, we will be able to obtain a much more robust recommender.\n",
    "\n",
    "The only downside to this : Since we will only recommend artists and not Tracks anymore, we will make the hypothesis that if some user likes an artist, then it probably likes most of his songs. (This hypothesis is not new, we had to use it to define our relevance method : a track is relevant if it is made by an artist the user listened to).\n",
    "\n",
    "Using this hypothesis, we can simply select the top artists for the group, and sample tracks from the top artists to create the playlist.\n",
    "\n",
    "This notebook closely resembles the \"02 - Track Data Creation\" but is applied on the 360K Dataset, and saves the Data in HDF5, a format readable for the implicit library, which we will use instead of surprise, as it allows us to use a GPU to train."
   ]
  },
  {
   "cell_type": "code",
   "execution_count": 2,
   "metadata": {},
   "outputs": [],
   "source": [
    "import os\n",
    "import time\n",
    "import tarfile\n",
    "import h5py\n",
    "import numpy as np\n",
    "import pandas as pd\n",
    "from scipy.sparse import coo_matrix, csr_matrix\n",
    "from implicit.datasets.lastfm import _hfd5_from_dataframe"
   ]
  },
  {
   "cell_type": "markdown",
   "metadata": {},
   "source": [
    "#### Read Data\n",
    "\n",
    "We simply load the data from the tar file into a DataFrame."
   ]
  },
  {
   "cell_type": "code",
   "execution_count": 3,
   "metadata": {},
   "outputs": [],
   "source": [
    "cols_360k = ['user-id','artist-id','artist-name','plays']\n",
    "PATH_360k = 'data/lastfm-dataset-360K.tar.gz'\n",
    "PATH_360k_data = 'lastfm-dataset-360K/usersha1-artmbid-artname-plays.tsv'\n",
    "\n",
    "with tarfile.open(PATH_360k, \"r:*\") as tar:\n",
    "    df_360k = pd.read_csv(tar.extractfile(PATH_360k_data), sep=\"\\t\", error_bad_lines=False, header=0, names=cols_360k)"
   ]
  },
  {
   "cell_type": "markdown",
   "metadata": {},
   "source": [
    "#### Keep only valid sha1 hashes\n",
    "\n",
    "We keep artists and user which have a valid musicbrainz hash id."
   ]
  },
  {
   "cell_type": "code",
   "execution_count": 4,
   "metadata": {},
   "outputs": [],
   "source": [
    "sha1_match = r'\\b([a-f0-9]{40})\\b'\n",
    "df_360k = df_360k[df_360k['user-id'].str.fullmatch(sha1_match)]\n",
    "\n",
    "artist_match = r'\\b([a-f0-9]{8})-([a-f0-9]{4})-([a-f0-9]{4})-([a-f0-9]{4})-([a-f0-9]{12})\\b'\n",
    "df_360k = df_360k[df_360k['artist-id'].str.fullmatch(artist_match, na=False)]"
   ]
  },
  {
   "cell_type": "markdown",
   "metadata": {},
   "source": [
    "#### Drop NA\n",
    "\n",
    "We have enough artists, so we can simply remove some artists which have their names missing from the Dataset instead of trying to recover them through the IDS."
   ]
  },
  {
   "cell_type": "code",
   "execution_count": 5,
   "metadata": {},
   "outputs": [],
   "source": [
    "df_360k = df_360k.dropna()"
   ]
  },
  {
   "cell_type": "markdown",
   "metadata": {},
   "source": [
    "#### Normalize artist-names with ids\n",
    "Since some Artists have various name but share the same id, we normalize them, keeping a single name for each ID.\n",
    "\n",
    "This enables us to use the Name of the artist as a unique identifier."
   ]
  },
  {
   "cell_type": "code",
   "execution_count": 6,
   "metadata": {},
   "outputs": [],
   "source": [
    "artist_id_mapping = df_360k.groupby('artist-id').apply(lambda x : x['artist-name'].iloc[0]).to_frame('artist-name')\n",
    "artist_id_dict = artist_id_mapping['artist-name'].to_dict()\n",
    "df_360k['artist-name'] = df_360k['artist-id'].apply(lambda x : artist_id_dict[x])"
   ]
  },
  {
   "cell_type": "code",
   "execution_count": 7,
   "metadata": {},
   "outputs": [],
   "source": [
    "df_360k = df_360k[['user-id', 'artist-name', 'plays']]"
   ]
  },
  {
   "cell_type": "markdown",
   "metadata": {},
   "source": [
    "#### Rename columns for compatibility with implicit library\n",
    "\n",
    "Since we plan on using the implicit library, and it already features a method to save to HDF5 given a DF, we simply rename our columns to user their format."
   ]
  },
  {
   "cell_type": "code",
   "execution_count": 8,
   "metadata": {},
   "outputs": [],
   "source": [
    "df_360k = df_360k.rename(columns={'user-id':'user', 'artist-name':'artist'})\n",
    "df_360k[\"user\"] = df_360k[\"user\"].astype(\"category\")\n",
    "df_360k[\"artist\"] = df_360k[\"artist\"].astype(\"category\")"
   ]
  },
  {
   "cell_type": "markdown",
   "metadata": {},
   "source": [
    "#### Quick look at the distribution of listens per artist\n",
    "\n",
    "Since this time, we simply can't query the spotify API with so many Artists, we can simply keep the complete Dataset.\n",
    "\n",
    "We still choose to get a Quick view of the distribution in order to see the difference of orders of magnitudes in the number of plays for very popular and unpopular artists."
   ]
  },
  {
   "cell_type": "code",
   "execution_count": 9,
   "metadata": {},
   "outputs": [
    {
     "data": {
      "text/plain": [
       "<matplotlib.axes._subplots.AxesSubplot at 0x7f47342c67f0>"
      ]
     },
     "execution_count": 9,
     "metadata": {},
     "output_type": "execute_result"
    },
    {
     "data": {
      "image/png": "[encoded data removed]",
      "text/plain": [
       "<Figure size 432x288 with 1 Axes>"
      ]
     },
     "metadata": {
      "needs_background": "light"
     },
     "output_type": "display_data"
    }
   ],
   "source": [
    "df_360k.groupby('artist').sum('plays').plot(kind='hist',bins=1000, logy=True, logx=True)"
   ]
  },
  {
   "cell_type": "markdown",
   "metadata": {},
   "source": [
    "#### Save to HDF5 using util function from implicit\n",
    "\n",
    "We can use their function to save our Last.FM 360K Data in HDF5, in order to use it in the 8th notebook !"
   ]
  },
  {
   "cell_type": "code",
   "execution_count": null,
   "metadata": {},
   "outputs": [],
   "source": [
    "#_hfd5_from_dataframe(df_360k, 'data/360k.hdf5')"
   ]
  }
 ],
 "metadata": {
  "kernelspec": {
   "display_name": "Python 3",
   "language": "python",
   "name": "python3"
  },
  "language_info": {
   "codemirror_mode": {
    "name": "ipython",
    "version": 3
   },
   "file_extension": ".py",
   "mimetype": "text/x-python",
   "name": "python",
   "nbconvert_exporter": "python",
   "pygments_lexer": "ipython3",
   "version": "3.8.3"
  }
 },
 "nbformat": 4,
 "nbformat_minor": 4
}
