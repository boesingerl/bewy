{
 "cells": [
  {
   "cell_type": "markdown",
   "metadata": {},
   "source": [
    "# Goal of the Notebook\n",
    "\n",
    "This notebook is the first notebook we created, back in the first milestones when we wanted to find out about the data. We also the data in the 1K Dataset, which we will use everywhere in the rest of the project."
   ]
  },
  {
   "cell_type": "markdown",
   "metadata": {},
   "source": [
    "## Research questions"
   ]
  },
  {
   "cell_type": "markdown",
   "metadata": {},
   "source": [
    "- **How to determine a similarity metric among artists, given a list of user-artist-plays tuples?**\n",
    "    - From users' listening patterns on the 360K dataset, generate features to decide if an artist is more liked than another (ex : listened much more than the user's average per-artist plays)\n",
    "    - Using SVD or matrix factorization using the previous features, generate a similarity feature space with respect to users and artists\n",
    "- **How to compute a set of recommended artist, given previous similarity metrics, and a set of known-liked artists ?**\n",
    "    - Find clustering of artists given similarity metric\n",
    "    - Multiple ideas for generating the set : \n",
    "        - Use the mean of top artists of our users to determine a \"center point\" => may not be great, given that SVD isn't required to create a feature space that makes sense when we try to get the center (try to please everyone but please no one)\n",
    "        - Pick artists that are close to each user's center point, but tends to be slightly biased towards others (please each user one at a time)\n",
    "    \n",
    "- **From a set of artists, how to compute the best fitting playlist ?**\n",
    "    - Using other datasets, such as spotify's dataset, sample top tracks from our selected artist\n",
    "    - More in depth : same analysis as before, but finding a set of music tracks using the 1K Dataset instead of the 360K"
   ]
  },
  {
   "cell_type": "markdown",
   "metadata": {},
   "source": [
    "## Datasets used"
   ]
  },
  {
   "cell_type": "markdown",
   "metadata": {},
   "source": [
    "**1) Last.fm Dataset - 360K users (user top artists)**\n",
    "\n",
    "This dataset contains <user, artist-mbid, artist-name, total-plays> tuples (for ~360,000 users) collected from Last.fm API, using the user.getTopArtists() method.\n",
    "\n",
    "\n",
    "**2) Last.fm Dataset - 1K users (user full listening history)**\n",
    "\n",
    "This dataset contains <user-id, timestamp, artist-mbid, artist-name, song-mbid, song-title> tuples collected from Last.fm API, using the user.getRecentTracks() method.\n",
    "The dataset represents the full listening history (till May, 5th 2009) for nearly 1,000 users."
   ]
  },
  {
   "cell_type": "markdown",
   "metadata": {},
   "source": [
    "## Libraries used\n",
    "\n",
    "We may want to use dask dataframes (pandas dataframes divided in multiple partitions) if the pandas one doesn't fit into memory."
   ]
  },
  {
   "cell_type": "code",
   "execution_count": 1,
   "metadata": {},
   "outputs": [],
   "source": [
    "import pandas as pd\n",
    "import numpy as np\n",
    "import dask.dataframe as dd\n",
    "import tarfile\n",
    "from dask.delayed import delayed\n",
    "import matplotlib.pyplot as plt"
   ]
  },
  {
   "cell_type": "markdown",
   "metadata": {},
   "source": [
    "# Preprocessing"
   ]
  },
  {
   "cell_type": "markdown",
   "metadata": {},
   "source": [
    "## Loading Data\n",
    "\n",
    "Here we load the csv files into pandas dataframes"
   ]
  },
  {
   "cell_type": "code",
   "execution_count": 2,
   "metadata": {},
   "outputs": [
    {
     "name": "stderr",
     "output_type": "stream",
     "text": [
      "b'Skipping line 2120260: expected 6 fields, saw 8\\n'\n",
      "b'Skipping line 2446318: expected 6 fields, saw 8\\n'\n",
      "b'Skipping line 11141081: expected 6 fields, saw 8\\n'\n",
      "b'Skipping line 11152099: expected 6 fields, saw 12\\nSkipping line 11152402: expected 6 fields, saw 8\\n'\n",
      "b'Skipping line 11882087: expected 6 fields, saw 8\\n'\n",
      "b'Skipping line 12902539: expected 6 fields, saw 8\\nSkipping line 12935044: expected 6 fields, saw 8\\n'\n",
      "b'Skipping line 17589539: expected 6 fields, saw 8\\n'\n"
     ]
    }
   ],
   "source": [
    "cols_1k   = ['userid','timestamp','musicbrainz-artist-id','artist-name','musicbrainz-track-id','track-name']\n",
    "cols_360k = ['user-id','artist-id','artist-name','plays']\n",
    "\n",
    "PATH_1k   = 'data/lastfm-dataset-1K.tar.gz'\n",
    "PATH_360k = 'data/lastfm-dataset-360K.tar.gz'\n",
    "\n",
    "PATH_1k_data   = 'lastfm-dataset-1K/userid-timestamp-artid-artname-traid-traname.tsv'\n",
    "PATH_360k_data = 'lastfm-dataset-360K/usersha1-artmbid-artname-plays.tsv'\n",
    "\n",
    "with tarfile.open(PATH_1k, \"r:*\") as tar:\n",
    "    df_1k = pd.read_csv(tar.extractfile(PATH_1k_data), sep=\"\\t\", error_bad_lines=False, header=0, names=cols_1k)\n",
    "\n",
    "with tarfile.open(PATH_360k, \"r:*\") as tar:\n",
    "    df_360k = pd.read_csv(tar.extractfile(PATH_360k_data), sep=\"\\t\", error_bad_lines=False, header=0, names=cols_360k)"
   ]
  },
  {
   "cell_type": "code",
   "execution_count": 3,
   "metadata": {},
   "outputs": [
    {
     "name": "stdout",
     "output_type": "stream",
     "text": [
      "<class 'pandas.core.frame.DataFrame'>\n",
      "RangeIndex: 19098852 entries, 0 to 19098851\n",
      "Data columns (total 6 columns):\n",
      " #   Column                 Dtype \n",
      "---  ------                 ----- \n",
      " 0   userid                 object\n",
      " 1   timestamp              object\n",
      " 2   musicbrainz-artist-id  object\n",
      " 3   artist-name            object\n",
      " 4   musicbrainz-track-id   object\n",
      " 5   track-name             object\n",
      "dtypes: object(6)\n",
      "memory usage: 874.3+ MB\n"
     ]
    }
   ],
   "source": [
    "df_1k.info()"
   ]
  },
  {
   "cell_type": "markdown",
   "metadata": {},
   "source": [
    "We see that the timestamp is of type object, but we know that it is a date. We can therefore convert the column to a more narrow type."
   ]
  },
  {
   "cell_type": "code",
   "execution_count": 4,
   "metadata": {},
   "outputs": [],
   "source": [
    "df_1k['timestamp'] = pd.to_datetime(df_1k['timestamp'])"
   ]
  },
  {
   "cell_type": "markdown",
   "metadata": {},
   "source": [
    "## Exploratory Data analysis"
   ]
  },
  {
   "cell_type": "markdown",
   "metadata": {},
   "source": [
    "### Data Cleaning"
   ]
  },
  {
   "cell_type": "markdown",
   "metadata": {},
   "source": [
    "#### We keep only user-ids that are valid"
   ]
  },
  {
   "cell_type": "code",
   "execution_count": 5,
   "metadata": {},
   "outputs": [],
   "source": [
    "user_match = r'\\Auser_\\d{6}'\n",
    "\n",
    "df_1k = df_1k[df_1k['userid'].str.fullmatch(user_match)]"
   ]
  },
  {
   "cell_type": "markdown",
   "metadata": {},
   "source": [
    "#### We do the same, but this time for the artist ids and tracks ids (some are na by default, we just remove them as well) :"
   ]
  },
  {
   "cell_type": "code",
   "execution_count": 6,
   "metadata": {},
   "outputs": [],
   "source": [
    "artist_track_match = r'\\b([a-f0-9]{8})-([a-f0-9]{4})-([a-f0-9]{4})-([a-f0-9]{4})-([a-f0-9]{12})\\b'\n",
    "\n",
    "df_1k = df_1k[df_1k['musicbrainz-artist-id'].str.fullmatch(artist_track_match, na=False)]\n",
    "df_1k = df_1k[df_1k['musicbrainz-track-id'].str.fullmatch(artist_track_match, na=False)]"
   ]
  },
  {
   "cell_type": "markdown",
   "metadata": {},
   "source": [
    "#### We can now simply describe the dataset :"
   ]
  },
  {
   "cell_type": "code",
   "execution_count": 7,
   "metadata": {},
   "outputs": [
    {
     "name": "stderr",
     "output_type": "stream",
     "text": [
      "<ipython-input-7-dd057528d907>:1: FutureWarning: Treating datetime data as categorical rather than numeric in `.describe` is deprecated and will be removed in a future version of pandas. Specify `datetime_is_numeric=True` to silence this warning and adopt the future behavior now.\n",
      "  df_1k.describe()\n"
     ]
    },
    {
     "data": {
      "text/html": [
       "<div>\n",
       "<style scoped>\n",
       "    .dataframe tbody tr th:only-of-type {\n",
       "        vertical-align: middle;\n",
       "    }\n",
       "\n",
       "    .dataframe tbody tr th {\n",
       "        vertical-align: top;\n",
       "    }\n",
       "\n",
       "    .dataframe thead th {\n",
       "        text-align: right;\n",
       "    }\n",
       "</style>\n",
       "<table border=\"1\" class=\"dataframe\">\n",
       "  <thead>\n",
       "    <tr style=\"text-align: right;\">\n",
       "      <th></th>\n",
       "      <th>userid</th>\n",
       "      <th>timestamp</th>\n",
       "      <th>musicbrainz-artist-id</th>\n",
       "      <th>artist-name</th>\n",
       "      <th>musicbrainz-track-id</th>\n",
       "      <th>track-name</th>\n",
       "    </tr>\n",
       "  </thead>\n",
       "  <tbody>\n",
       "    <tr>\n",
       "      <th>count</th>\n",
       "      <td>16936134</td>\n",
       "      <td>16936134</td>\n",
       "      <td>16936134</td>\n",
       "      <td>16936134</td>\n",
       "      <td>16936134</td>\n",
       "      <td>16936134</td>\n",
       "    </tr>\n",
       "    <tr>\n",
       "      <th>unique</th>\n",
       "      <td>992</td>\n",
       "      <td>15631466</td>\n",
       "      <td>83905</td>\n",
       "      <td>81751</td>\n",
       "      <td>960402</td>\n",
       "      <td>693231</td>\n",
       "    </tr>\n",
       "    <tr>\n",
       "      <th>top</th>\n",
       "      <td>user_000949</td>\n",
       "      <td>2009-02-26 21:29:15+00:00</td>\n",
       "      <td>a74b1b7f-71a5-4011-9441-d0b5e4122711</td>\n",
       "      <td>Radiohead</td>\n",
       "      <td>db16d0b3-b8ce-4aa8-a11a-e4d53cc7f8a6</td>\n",
       "      <td>Intro</td>\n",
       "    </tr>\n",
       "    <tr>\n",
       "      <th>freq</th>\n",
       "      <td>172042</td>\n",
       "      <td>193</td>\n",
       "      <td>111488</td>\n",
       "      <td>111488</td>\n",
       "      <td>3991</td>\n",
       "      <td>14908</td>\n",
       "    </tr>\n",
       "    <tr>\n",
       "      <th>first</th>\n",
       "      <td>NaN</td>\n",
       "      <td>2005-02-14 00:00:07+00:00</td>\n",
       "      <td>NaN</td>\n",
       "      <td>NaN</td>\n",
       "      <td>NaN</td>\n",
       "      <td>NaN</td>\n",
       "    </tr>\n",
       "    <tr>\n",
       "      <th>last</th>\n",
       "      <td>NaN</td>\n",
       "      <td>2013-09-29 18:32:04+00:00</td>\n",
       "      <td>NaN</td>\n",
       "      <td>NaN</td>\n",
       "      <td>NaN</td>\n",
       "      <td>NaN</td>\n",
       "    </tr>\n",
       "  </tbody>\n",
       "</table>\n",
       "</div>"
      ],
      "text/plain": [
       "             userid                  timestamp  \\\n",
       "count      16936134                   16936134   \n",
       "unique          992                   15631466   \n",
       "top     user_000949  2009-02-26 21:29:15+00:00   \n",
       "freq         172042                        193   \n",
       "first           NaN  2005-02-14 00:00:07+00:00   \n",
       "last            NaN  2013-09-29 18:32:04+00:00   \n",
       "\n",
       "                       musicbrainz-artist-id artist-name  \\\n",
       "count                               16936134    16936134   \n",
       "unique                                 83905       81751   \n",
       "top     a74b1b7f-71a5-4011-9441-d0b5e4122711   Radiohead   \n",
       "freq                                  111488      111488   \n",
       "first                                    NaN         NaN   \n",
       "last                                     NaN         NaN   \n",
       "\n",
       "                        musicbrainz-track-id track-name  \n",
       "count                               16936134   16936134  \n",
       "unique                                960402     693231  \n",
       "top     db16d0b3-b8ce-4aa8-a11a-e4d53cc7f8a6      Intro  \n",
       "freq                                    3991      14908  \n",
       "first                                    NaN        NaN  \n",
       "last                                     NaN        NaN  "
      ]
     },
     "execution_count": 7,
     "metadata": {},
     "output_type": "execute_result"
    }
   ],
   "source": [
    "df_1k.describe()"
   ]
  },
  {
   "cell_type": "markdown",
   "metadata": {},
   "source": [
    "After this simple cleaning, we still have around 17 million entries : this is nice because we have a lot of data, but we'll have to think about how to process it all efficiently. \n",
    "\n",
    "From this, we know that there are about a million different tracks in the dataset and a bit more than 80k unique artist-ids.\n",
    "We can see that we"
   ]
  },
  {
   "cell_type": "markdown",
   "metadata": {},
   "source": [
    "#### Since we dropped na artist ids, all those value are non na, what about other columns :"
   ]
  },
  {
   "cell_type": "code",
   "execution_count": 8,
   "metadata": {},
   "outputs": [
    {
     "data": {
      "text/plain": [
       "userid                   False\n",
       "timestamp                False\n",
       "musicbrainz-artist-id    False\n",
       "artist-name              False\n",
       "musicbrainz-track-id     False\n",
       "track-name               False\n",
       "dtype: bool"
      ]
     },
     "execution_count": 8,
     "metadata": {},
     "output_type": "execute_result"
    }
   ],
   "source": [
    "df_1k.isna().any()"
   ]
  },
  {
   "cell_type": "markdown",
   "metadata": {},
   "source": [
    "### Let's explore :"
   ]
  },
  {
   "cell_type": "markdown",
   "metadata": {},
   "source": [
    "#### Let's find more information about the average users"
   ]
  },
  {
   "cell_type": "code",
   "execution_count": 9,
   "metadata": {},
   "outputs": [
    {
     "data": {
      "text/plain": [
       "(3989.7247983870966, 4670.861545806167)"
      ]
     },
     "execution_count": 9,
     "metadata": {},
     "output_type": "execute_result"
    }
   ],
   "source": [
    "per_user_sets = df_1k.groupby('userid').agg(lambda x : set(x))\n",
    "\n",
    "set_len = per_user_sets['musicbrainz-track-id'].apply(lambda x : len(x))\n",
    "\n",
    "(set_len.mean(), set_len.std())"
   ]
  },
  {
   "cell_type": "markdown",
   "metadata": {},
   "source": [
    "### Keeping only recent titles"
   ]
  },
  {
   "cell_type": "code",
   "execution_count": 10,
   "metadata": {},
   "outputs": [
    {
     "data": {
      "text/plain": [
       "14293404   2013-09-29 18:32:04+00:00\n",
       "7696483    2010-08-13 23:06:38+00:00\n",
       "12032167   2009-06-19 21:31:16+00:00\n",
       "18453009   2009-06-19 21:27:08+00:00\n",
       "18453010   2009-06-19 21:23:17+00:00\n",
       "Name: timestamp, dtype: datetime64[ns, UTC]"
      ]
     },
     "execution_count": 10,
     "metadata": {},
     "output_type": "execute_result"
    }
   ],
   "source": [
    "df_1k['timestamp'].sort_values(ascending=False).head(5)"
   ]
  },
  {
   "cell_type": "markdown",
   "metadata": {},
   "source": [
    "Looks like there are some outliers, which we remove (3 tracks will not make a difference in our recommender):"
   ]
  },
  {
   "cell_type": "code",
   "execution_count": 11,
   "metadata": {},
   "outputs": [],
   "source": [
    "df_1k = df_1k[df_1k['timestamp'] < '2010-08-12']"
   ]
  },
  {
   "cell_type": "markdown",
   "metadata": {},
   "source": [
    "We can try to plot the amount of data per month :"
   ]
  },
  {
   "cell_type": "code",
   "execution_count": 12,
   "metadata": {},
   "outputs": [
    {
     "data": {
      "text/plain": [
       "Text(0.5, 0, 'month')"
      ]
     },
     "execution_count": 12,
     "metadata": {},
     "output_type": "execute_result"
    },
    {
     "data": {
      "image/png": "[encoded data removed]",
      "text/plain": [
       "<Figure size 720x360 with 1 Axes>"
      ]
     },
     "metadata": {
      "needs_background": "light"
     },
     "output_type": "display_data"
    }
   ],
   "source": [
    "plt.figure(figsize=(10,5))\n",
    "df_1k.groupby([df_1k[\"timestamp\"].dt.year, df_1k[\"timestamp\"].dt.month]).count()['userid'].plot(kind=\"bar\")\n",
    "plt.ylabel('#tracks')\n",
    "plt.xlabel('month')"
   ]
  },
  {
   "cell_type": "markdown",
   "metadata": {},
   "source": [
    "We make the choice of selecting the last six months, in order to keep relevant information (our tastes in music can change quite a lot)\n",
    "\n",
    "Having a small interval is also a good choice because it ensures that older songs don't get more weight simply because they're older and have been listened to more "
   ]
  },
  {
   "cell_type": "code",
   "execution_count": 13,
   "metadata": {},
   "outputs": [],
   "source": [
    "df_1k = df_1k[('2008-11-01' < df_1k['timestamp']) & (df_1k['timestamp'] < '2009-05-01')]"
   ]
  },
  {
   "cell_type": "markdown",
   "metadata": {},
   "source": [
    "We plot once again to make sure it looks normal : "
   ]
  },
  {
   "cell_type": "code",
   "execution_count": 14,
   "metadata": {},
   "outputs": [
    {
     "data": {
      "text/plain": [
       "Text(0.5, 0, 'month')"
      ]
     },
     "execution_count": 14,
     "metadata": {},
     "output_type": "execute_result"
    },
    {
     "data": {
      "image/png": "[encoded data removed]",
      "text/plain": [
       "<Figure size 432x288 with 1 Axes>"
      ]
     },
     "metadata": {
      "needs_background": "light"
     },
     "output_type": "display_data"
    }
   ],
   "source": [
    "df_1k.groupby([df_1k[\"timestamp\"].dt.year, df_1k[\"timestamp\"].dt.month]).count()['userid'].plot(kind=\"bar\")\n",
    "plt.ylabel('#tracks')\n",
    "plt.xlabel('month')"
   ]
  },
  {
   "cell_type": "markdown",
   "metadata": {},
   "source": [
    "Get a dataframe grouped by track, with the number of plays, along with the track and artist name"
   ]
  },
  {
   "cell_type": "code",
   "execution_count": 15,
   "metadata": {},
   "outputs": [
    {
     "data": {
      "text/html": [
       "<div>\n",
       "<style scoped>\n",
       "    .dataframe tbody tr th:only-of-type {\n",
       "        vertical-align: middle;\n",
       "    }\n",
       "\n",
       "    .dataframe tbody tr th {\n",
       "        vertical-align: top;\n",
       "    }\n",
       "\n",
       "    .dataframe thead th {\n",
       "        text-align: right;\n",
       "    }\n",
       "</style>\n",
       "<table border=\"1\" class=\"dataframe\">\n",
       "  <thead>\n",
       "    <tr style=\"text-align: right;\">\n",
       "      <th></th>\n",
       "      <th>artist-name</th>\n",
       "      <th>plays</th>\n",
       "      <th>track-name</th>\n",
       "      <th>musicbrainz-artist-id</th>\n",
       "    </tr>\n",
       "    <tr>\n",
       "      <th>musicbrainz-track-id</th>\n",
       "      <th></th>\n",
       "      <th></th>\n",
       "      <th></th>\n",
       "      <th></th>\n",
       "    </tr>\n",
       "  </thead>\n",
       "  <tbody>\n",
       "    <tr>\n",
       "      <th>00000baf-9215-483a-8900-93756eaf1cfc</th>\n",
       "      <td>In Extremo</td>\n",
       "      <td>1</td>\n",
       "      <td>Como Poden</td>\n",
       "      <td>8ebd161e-f45e-41b9-8019-fcbd094c327f</td>\n",
       "    </tr>\n",
       "    <tr>\n",
       "      <th>000011ea-a75a-4b4a-9ab7-e8b3c6c64705</th>\n",
       "      <td>Ember Swift</td>\n",
       "      <td>1</td>\n",
       "      <td>Cheap Drunk</td>\n",
       "      <td>4053e427-925c-4709-a86e-e1e04af0edf8</td>\n",
       "    </tr>\n",
       "    <tr>\n",
       "      <th>0000167c-95f5-48eb-b15f-04790e09a765</th>\n",
       "      <td>Sally Shapiro</td>\n",
       "      <td>3</td>\n",
       "      <td>He Keeps Me Alive (Skatebård Remix)</td>\n",
       "      <td>076b616f-399d-41d6-881e-fcb47505912b</td>\n",
       "    </tr>\n",
       "    <tr>\n",
       "      <th>000067b7-dcad-4253-8a72-6db4bb029594</th>\n",
       "      <td>The Coral</td>\n",
       "      <td>1</td>\n",
       "      <td>Shes Got A Reason (Live)</td>\n",
       "      <td>3b1c66fb-98ad-417f-b01e-49baf37f06a3</td>\n",
       "    </tr>\n",
       "    <tr>\n",
       "      <th>0000732b-9c3b-4808-8306-b2c970887465</th>\n",
       "      <td>Poisonblack</td>\n",
       "      <td>23</td>\n",
       "      <td>Lowlife</td>\n",
       "      <td>cef9233d-78ef-41d5-9bac-f2ca21aa4a40</td>\n",
       "    </tr>\n",
       "    <tr>\n",
       "      <th>...</th>\n",
       "      <td>...</td>\n",
       "      <td>...</td>\n",
       "      <td>...</td>\n",
       "      <td>...</td>\n",
       "    </tr>\n",
       "    <tr>\n",
       "      <th>ffff43cd-ab5f-443f-8f1d-a305dd8873a9</th>\n",
       "      <td>The Sword</td>\n",
       "      <td>12</td>\n",
       "      <td>The Sundering</td>\n",
       "      <td>40dc452a-6b63-4b7e-a106-062739155866</td>\n",
       "    </tr>\n",
       "    <tr>\n",
       "      <th>ffff748c-14d1-4e45-af10-2d255bff59f0</th>\n",
       "      <td>Wolfgang Amadeus Mozart</td>\n",
       "      <td>1</td>\n",
       "      <td>Cum Sancto Spiritu</td>\n",
       "      <td>b972f589-fb0e-474e-b64a-803b0364fa75</td>\n",
       "    </tr>\n",
       "    <tr>\n",
       "      <th>ffff8f29-0c47-4d58-b074-8dc2fddc000b</th>\n",
       "      <td>Scared Of Chaka</td>\n",
       "      <td>1</td>\n",
       "      <td>All My Friends Are Ghosts</td>\n",
       "      <td>411b8059-4a6c-48a5-8365-0a23b9faba26</td>\n",
       "    </tr>\n",
       "    <tr>\n",
       "      <th>ffffbf08-0c7a-4b07-98aa-4366a190fe8e</th>\n",
       "      <td>Rockettothesky</td>\n",
       "      <td>4</td>\n",
       "      <td>They Are Bastards! (We Are Better!)</td>\n",
       "      <td>8df4098f-2386-4133-be1a-6c1163bdd10e</td>\n",
       "    </tr>\n",
       "    <tr>\n",
       "      <th>ffffff64-4a90-4350-9281-c9dc10aa9d30</th>\n",
       "      <td>Dmx</td>\n",
       "      <td>1</td>\n",
       "      <td>Who Shot Ya (Freestyle)</td>\n",
       "      <td>f3bf61f8-97d4-4e52-a73d-2ddbbe8196c8</td>\n",
       "    </tr>\n",
       "  </tbody>\n",
       "</table>\n",
       "<p>459875 rows × 4 columns</p>\n",
       "</div>"
      ],
      "text/plain": [
       "                                                  artist-name  plays  \\\n",
       "musicbrainz-track-id                                                   \n",
       "00000baf-9215-483a-8900-93756eaf1cfc               In Extremo      1   \n",
       "000011ea-a75a-4b4a-9ab7-e8b3c6c64705              Ember Swift      1   \n",
       "0000167c-95f5-48eb-b15f-04790e09a765            Sally Shapiro      3   \n",
       "000067b7-dcad-4253-8a72-6db4bb029594                The Coral      1   \n",
       "0000732b-9c3b-4808-8306-b2c970887465              Poisonblack     23   \n",
       "...                                                       ...    ...   \n",
       "ffff43cd-ab5f-443f-8f1d-a305dd8873a9                The Sword     12   \n",
       "ffff748c-14d1-4e45-af10-2d255bff59f0  Wolfgang Amadeus Mozart      1   \n",
       "ffff8f29-0c47-4d58-b074-8dc2fddc000b          Scared Of Chaka      1   \n",
       "ffffbf08-0c7a-4b07-98aa-4366a190fe8e           Rockettothesky      4   \n",
       "ffffff64-4a90-4350-9281-c9dc10aa9d30                      Dmx      1   \n",
       "\n",
       "                                                               track-name  \\\n",
       "musicbrainz-track-id                                                        \n",
       "00000baf-9215-483a-8900-93756eaf1cfc                           Como Poden   \n",
       "000011ea-a75a-4b4a-9ab7-e8b3c6c64705                          Cheap Drunk   \n",
       "0000167c-95f5-48eb-b15f-04790e09a765  He Keeps Me Alive (Skatebård Remix)   \n",
       "000067b7-dcad-4253-8a72-6db4bb029594             Shes Got A Reason (Live)   \n",
       "0000732b-9c3b-4808-8306-b2c970887465                              Lowlife   \n",
       "...                                                                   ...   \n",
       "ffff43cd-ab5f-443f-8f1d-a305dd8873a9                        The Sundering   \n",
       "ffff748c-14d1-4e45-af10-2d255bff59f0                   Cum Sancto Spiritu   \n",
       "ffff8f29-0c47-4d58-b074-8dc2fddc000b            All My Friends Are Ghosts   \n",
       "ffffbf08-0c7a-4b07-98aa-4366a190fe8e  They Are Bastards! (We Are Better!)   \n",
       "ffffff64-4a90-4350-9281-c9dc10aa9d30              Who Shot Ya (Freestyle)   \n",
       "\n",
       "                                                     musicbrainz-artist-id  \n",
       "musicbrainz-track-id                                                        \n",
       "00000baf-9215-483a-8900-93756eaf1cfc  8ebd161e-f45e-41b9-8019-fcbd094c327f  \n",
       "000011ea-a75a-4b4a-9ab7-e8b3c6c64705  4053e427-925c-4709-a86e-e1e04af0edf8  \n",
       "0000167c-95f5-48eb-b15f-04790e09a765  076b616f-399d-41d6-881e-fcb47505912b  \n",
       "000067b7-dcad-4253-8a72-6db4bb029594  3b1c66fb-98ad-417f-b01e-49baf37f06a3  \n",
       "0000732b-9c3b-4808-8306-b2c970887465  cef9233d-78ef-41d5-9bac-f2ca21aa4a40  \n",
       "...                                                                    ...  \n",
       "ffff43cd-ab5f-443f-8f1d-a305dd8873a9  40dc452a-6b63-4b7e-a106-062739155866  \n",
       "ffff748c-14d1-4e45-af10-2d255bff59f0  b972f589-fb0e-474e-b64a-803b0364fa75  \n",
       "ffff8f29-0c47-4d58-b074-8dc2fddc000b  411b8059-4a6c-48a5-8365-0a23b9faba26  \n",
       "ffffbf08-0c7a-4b07-98aa-4366a190fe8e  8df4098f-2386-4133-be1a-6c1163bdd10e  \n",
       "ffffff64-4a90-4350-9281-c9dc10aa9d30  f3bf61f8-97d4-4e52-a73d-2ddbbe8196c8  \n",
       "\n",
       "[459875 rows x 4 columns]"
      ]
     },
     "execution_count": 15,
     "metadata": {},
     "output_type": "execute_result"
    }
   ],
   "source": [
    "df = df_1k.dropna().groupby('musicbrainz-track-id').agg((lambda x : x.iloc[0], lambda x : len(x)))[['artist-name', 'track-name', 'musicbrainz-artist-id']]\n",
    "df.columns = ['artist-name', 'plays', 'track-name', 'torm1', 'musicbrainz-artist-id', 'torm2']\n",
    "df = df[['artist-name', 'plays', 'track-name', 'musicbrainz-artist-id']]\n",
    "df"
   ]
  },
  {
   "cell_type": "markdown",
   "metadata": {},
   "source": [
    "#### Keeping only tracks played more than T times, plotting the remaining number of tracks and artists"
   ]
  },
  {
   "cell_type": "code",
   "execution_count": 16,
   "metadata": {},
   "outputs": [],
   "source": [
    "ran = np.unique(np.geomspace(start=1,stop=df.plays.max(),num=20,dtype=int))\n",
    "\n",
    "tot_tracks = []\n",
    "tot_artists = []\n",
    "\n",
    "for r in ran:\n",
    "    filtered_df = df[df.plays > r].reset_index()\n",
    "    total_tracks = len(filtered_df)\n",
    "    total_artists = len(filtered_df['musicbrainz-artist-id'].unique())\n",
    "    \n",
    "    tot_tracks.append(total_tracks)\n",
    "    tot_artists.append(total_artists)\n",
    "    \n",
    "threshold_df = pd.DataFrame({'tracks':tot_tracks, 'tot_artists':tot_artists})\n",
    "threshold_df = threshold_df.set_index(ran)"
   ]
  },
  {
   "cell_type": "code",
   "execution_count": 17,
   "metadata": {},
   "outputs": [
    {
     "data": {
      "image/png": "[encoded data removed]",
      "text/plain": [
       "<Figure size 432x288 with 1 Axes>"
      ]
     },
     "metadata": {
      "needs_background": "light"
     },
     "output_type": "display_data"
    }
   ],
   "source": [
    "import matplotlib.pyplot as plt\n",
    "\n",
    "threshold_df.plot(kind='bar', logy=True)\n",
    "plt.legend(['Total tracks', 'Total artists'])\n",
    "plt.gca().set(title='Total artists and tracks as a function of threshold', xlabel='Threshold', ylabel='Amount');"
   ]
  },
  {
   "cell_type": "markdown",
   "metadata": {},
   "source": [
    "We wanted to keep a decent number of tracks and artists in order to make sure that we have enough data, but we also didn't want to have too many different tracks because we have to query the spotify API, which is why we chose to keep all tracks which were listened at least 50 times. Had we not used the spotify API, we would have probably kept the complete dataset, but since we wanted to provide different flavours of recommender systems, we had to make this tradeoff."
   ]
  },
  {
   "cell_type": "code",
   "execution_count": 18,
   "metadata": {},
   "outputs": [
    {
     "data": {
      "text/html": [
       "<div>\n",
       "<style scoped>\n",
       "    .dataframe tbody tr th:only-of-type {\n",
       "        vertical-align: middle;\n",
       "    }\n",
       "\n",
       "    .dataframe tbody tr th {\n",
       "        vertical-align: top;\n",
       "    }\n",
       "\n",
       "    .dataframe thead th {\n",
       "        text-align: right;\n",
       "    }\n",
       "</style>\n",
       "<table border=\"1\" class=\"dataframe\">\n",
       "  <thead>\n",
       "    <tr style=\"text-align: right;\">\n",
       "      <th></th>\n",
       "      <th>artist-name</th>\n",
       "      <th>plays</th>\n",
       "      <th>track-name</th>\n",
       "      <th>musicbrainz-artist-id</th>\n",
       "    </tr>\n",
       "    <tr>\n",
       "      <th>musicbrainz-track-id</th>\n",
       "      <th></th>\n",
       "      <th></th>\n",
       "      <th></th>\n",
       "      <th></th>\n",
       "    </tr>\n",
       "  </thead>\n",
       "  <tbody>\n",
       "    <tr>\n",
       "      <th>00007960-9d81-4192-b548-ad33d6b0ca54</th>\n",
       "      <td>The Dandy Warhols</td>\n",
       "      <td>54</td>\n",
       "      <td>Not If You Were The Last Junkie On Earth</td>\n",
       "      <td>5f572b31-8fd9-45ae-9beb-358c98d839df</td>\n",
       "    </tr>\n",
       "    <tr>\n",
       "      <th>0003dd36-b4d2-4216-a37e-b110f6882ecb</th>\n",
       "      <td>Sigur Rós</td>\n",
       "      <td>71</td>\n",
       "      <td>Ný Batterí</td>\n",
       "      <td>f6f2326f-6b25-4170-b89d-e235b25508e8</td>\n",
       "    </tr>\n",
       "    <tr>\n",
       "      <th>00048f58-c10d-4dbe-a04f-e5b88a86ff61</th>\n",
       "      <td>José González</td>\n",
       "      <td>89</td>\n",
       "      <td>Killing For Love</td>\n",
       "      <td>cd8c5019-5d75-4d5c-bc28-e1e26a7dd5c8</td>\n",
       "    </tr>\n",
       "    <tr>\n",
       "      <th>000dbffe-59b2-42ba-9458-c8989dccaeb9</th>\n",
       "      <td>Depeche Mode</td>\n",
       "      <td>207</td>\n",
       "      <td>Little Soul</td>\n",
       "      <td>8538e728-ca0b-4321-b7e5-cff6565dd4c0</td>\n",
       "    </tr>\n",
       "    <tr>\n",
       "      <th>001d5305-dd07-4753-b722-90ac4b8ba05b</th>\n",
       "      <td>Chromeo</td>\n",
       "      <td>64</td>\n",
       "      <td>Momma'S Boy</td>\n",
       "      <td>647221d0-f6b1-4e03-924c-c59b8059536f</td>\n",
       "    </tr>\n",
       "    <tr>\n",
       "      <th>...</th>\n",
       "      <td>...</td>\n",
       "      <td>...</td>\n",
       "      <td>...</td>\n",
       "      <td>...</td>\n",
       "    </tr>\n",
       "    <tr>\n",
       "      <th>ffca7636-4b3c-4bfb-9df2-0899cfb69afc</th>\n",
       "      <td>Amy Winehouse</td>\n",
       "      <td>68</td>\n",
       "      <td>Addicted</td>\n",
       "      <td>dfe9a7c4-8cf2-47f4-9dcb-d233c2b86ec3</td>\n",
       "    </tr>\n",
       "    <tr>\n",
       "      <th>ffe2102d-4a5e-48b7-977a-0c28e2af119e</th>\n",
       "      <td>The Futureheads</td>\n",
       "      <td>133</td>\n",
       "      <td>Hounds Of Love</td>\n",
       "      <td>0cf9d983-aecf-4d57-9e94-fde2beac014f</td>\n",
       "    </tr>\n",
       "    <tr>\n",
       "      <th>ffe3798a-44fd-4795-969c-2e14fc7083c8</th>\n",
       "      <td>Friendly Fires</td>\n",
       "      <td>116</td>\n",
       "      <td>Photobooth</td>\n",
       "      <td>ef656595-bbe8-4386-8953-be8df9f54472</td>\n",
       "    </tr>\n",
       "    <tr>\n",
       "      <th>ffe5b09f-2bc2-4534-9734-0d426e0a255d</th>\n",
       "      <td>Deep Dish</td>\n",
       "      <td>82</td>\n",
       "      <td>Flashdance</td>\n",
       "      <td>f1b1cf71-bd35-4e99-8624-24a6e15f133a</td>\n",
       "    </tr>\n",
       "    <tr>\n",
       "      <th>ffea36e9-ae42-402d-ba47-2c1ef4cfca05</th>\n",
       "      <td>Nirvana</td>\n",
       "      <td>151</td>\n",
       "      <td>Drain You</td>\n",
       "      <td>5b11f4ce-a62d-471e-81fc-a69a8278c7da</td>\n",
       "    </tr>\n",
       "  </tbody>\n",
       "</table>\n",
       "<p>8404 rows × 4 columns</p>\n",
       "</div>"
      ],
      "text/plain": [
       "                                            artist-name  plays  \\\n",
       "musicbrainz-track-id                                             \n",
       "00007960-9d81-4192-b548-ad33d6b0ca54  The Dandy Warhols     54   \n",
       "0003dd36-b4d2-4216-a37e-b110f6882ecb          Sigur Rós     71   \n",
       "00048f58-c10d-4dbe-a04f-e5b88a86ff61      José González     89   \n",
       "000dbffe-59b2-42ba-9458-c8989dccaeb9       Depeche Mode    207   \n",
       "001d5305-dd07-4753-b722-90ac4b8ba05b            Chromeo     64   \n",
       "...                                                 ...    ...   \n",
       "ffca7636-4b3c-4bfb-9df2-0899cfb69afc      Amy Winehouse     68   \n",
       "ffe2102d-4a5e-48b7-977a-0c28e2af119e    The Futureheads    133   \n",
       "ffe3798a-44fd-4795-969c-2e14fc7083c8     Friendly Fires    116   \n",
       "ffe5b09f-2bc2-4534-9734-0d426e0a255d          Deep Dish     82   \n",
       "ffea36e9-ae42-402d-ba47-2c1ef4cfca05            Nirvana    151   \n",
       "\n",
       "                                                                    track-name  \\\n",
       "musicbrainz-track-id                                                             \n",
       "00007960-9d81-4192-b548-ad33d6b0ca54  Not If You Were The Last Junkie On Earth   \n",
       "0003dd36-b4d2-4216-a37e-b110f6882ecb                                Ný Batterí   \n",
       "00048f58-c10d-4dbe-a04f-e5b88a86ff61                          Killing For Love   \n",
       "000dbffe-59b2-42ba-9458-c8989dccaeb9                               Little Soul   \n",
       "001d5305-dd07-4753-b722-90ac4b8ba05b                               Momma'S Boy   \n",
       "...                                                                        ...   \n",
       "ffca7636-4b3c-4bfb-9df2-0899cfb69afc                                  Addicted   \n",
       "ffe2102d-4a5e-48b7-977a-0c28e2af119e                            Hounds Of Love   \n",
       "ffe3798a-44fd-4795-969c-2e14fc7083c8                                Photobooth   \n",
       "ffe5b09f-2bc2-4534-9734-0d426e0a255d                                Flashdance   \n",
       "ffea36e9-ae42-402d-ba47-2c1ef4cfca05                                 Drain You   \n",
       "\n",
       "                                                     musicbrainz-artist-id  \n",
       "musicbrainz-track-id                                                        \n",
       "00007960-9d81-4192-b548-ad33d6b0ca54  5f572b31-8fd9-45ae-9beb-358c98d839df  \n",
       "0003dd36-b4d2-4216-a37e-b110f6882ecb  f6f2326f-6b25-4170-b89d-e235b25508e8  \n",
       "00048f58-c10d-4dbe-a04f-e5b88a86ff61  cd8c5019-5d75-4d5c-bc28-e1e26a7dd5c8  \n",
       "000dbffe-59b2-42ba-9458-c8989dccaeb9  8538e728-ca0b-4321-b7e5-cff6565dd4c0  \n",
       "001d5305-dd07-4753-b722-90ac4b8ba05b  647221d0-f6b1-4e03-924c-c59b8059536f  \n",
       "...                                                                    ...  \n",
       "ffca7636-4b3c-4bfb-9df2-0899cfb69afc  dfe9a7c4-8cf2-47f4-9dcb-d233c2b86ec3  \n",
       "ffe2102d-4a5e-48b7-977a-0c28e2af119e  0cf9d983-aecf-4d57-9e94-fde2beac014f  \n",
       "ffe3798a-44fd-4795-969c-2e14fc7083c8  ef656595-bbe8-4386-8953-be8df9f54472  \n",
       "ffe5b09f-2bc2-4534-9734-0d426e0a255d  f1b1cf71-bd35-4e99-8624-24a6e15f133a  \n",
       "ffea36e9-ae42-402d-ba47-2c1ef4cfca05  5b11f4ce-a62d-471e-81fc-a69a8278c7da  \n",
       "\n",
       "[8404 rows x 4 columns]"
      ]
     },
     "execution_count": 18,
     "metadata": {},
     "output_type": "execute_result"
    }
   ],
   "source": [
    "famous_tracks = df[df.plays > 50]\n",
    "famous_tracks"
   ]
  },
  {
   "cell_type": "markdown",
   "metadata": {},
   "source": [
    "## Save Famous tracks dataset"
   ]
  },
  {
   "cell_type": "code",
   "execution_count": null,
   "metadata": {},
   "outputs": [],
   "source": [
    "#famous_tracks.to_csv('data/famous_tracks.csv')"
   ]
  },
  {
   "cell_type": "markdown",
   "metadata": {},
   "source": [
    "We see that on average, people listen to around 3989 tracks, with a standard deviation of 4670. We can conclude that there are a lot of different users type i.e user that listen a lot of tracks and others that rarly listen music"
   ]
  }
 ],
 "metadata": {
  "kernelspec": {
   "display_name": "Python 3",
   "language": "python",
   "name": "python3"
  },
  "language_info": {
   "codemirror_mode": {
    "name": "ipython",
    "version": 3
   },
   "file_extension": ".py",
   "mimetype": "text/x-python",
   "name": "python",
   "nbconvert_exporter": "python",
   "pygments_lexer": "ipython3",
   "version": "3.8.3"
  }
 },
 "nbformat": 4,
 "nbformat_minor": 4
}
