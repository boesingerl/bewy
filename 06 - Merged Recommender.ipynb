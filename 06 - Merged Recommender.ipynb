{
 "cells": [
  {
   "cell_type": "code",
   "execution_count": null,
   "metadata": {},
   "outputs": [],
   "source": [
    "# Goal of the Notebook\n",
    "\n",
    "#This notebook contains a working prototype that uses voilà and jupyter widgets\n",
    "#to provide a front-end to the application."
   ]
  },
  {
   "cell_type": "code",
   "execution_count": 1,
   "metadata": {},
   "outputs": [],
   "source": [
    "%load_ext autoreload"
   ]
  },
  {
   "cell_type": "code",
   "execution_count": 2,
   "metadata": {},
   "outputs": [],
   "source": [
    "import pandas as pd\n",
    "import dask.dataframe as dd\n",
    "import tarfile\n",
    "import scipy\n",
    "import plotly.express as px\n",
    "import numpy as np\n",
    "import matplotlib.pyplot as plt\n",
    "import surprise\n",
    "import pickle \n",
    "import seaborn as sns\n",
    "import ipywidgets as widgets\n",
    "import os\n",
    "import plotly.express as px\n",
    "import datetime\n",
    "import time\n",
    "\n",
    "from surprise import Dataset, Reader\n",
    "from surprise import SVD, SVDpp, NMF\n",
    "from surprise.model_selection import train_test_split, GridSearchCV, cross_validate, KFold\n",
    "from surprise.prediction_algorithms.knns import KNNBaseline\n",
    "from surprise.prediction_algorithms.co_clustering import CoClustering\n",
    "from surprise import accuracy\n",
    "\n",
    "from sklearn.manifold import TSNE\n",
    "from sklearn.neighbors import DistanceMetric\n",
    "from sklearn.decomposition import PCA\n",
    "from sklearn.neighbors import NearestNeighbors\n",
    "\n",
    "from ipywidgets import interactive, widgets, interact, Layout\n",
    "from IPython.core.display import HTML, display\n",
    "\n",
    "from group_utils import *\n",
    "from content_recommender import *\n",
    "from collaborative_recommender import *\n",
    "from heuristic_recommender import *"
   ]
  },
  {
   "cell_type": "code",
   "execution_count": 3,
   "metadata": {},
   "outputs": [],
   "source": [
    "# Load data"
   ]
  },
  {
   "cell_type": "code",
   "execution_count": 4,
   "metadata": {},
   "outputs": [],
   "source": [
    "famous_tracks            = pd.read_csv('data/features.csv')\n",
    "df_1kfamous              = pd.read_csv('data/df_1kfamous.csv')\n",
    "df_1kfamous_with_ratings = pd.read_pickle('data/df_1kfamous_with_ratings.pkl')\n",
    "df_reduced               = pd.read_pickle('data/df_reduced.pkl')\n",
    "famous_tracks_c          = pd.read_csv('data/tracks_clustered.csv')"
   ]
  },
  {
   "cell_type": "code",
   "execution_count": 5,
   "metadata": {},
   "outputs": [],
   "source": [
    "# Print header for voilà"
   ]
  },
  {
   "cell_type": "code",
   "execution_count": 6,
   "metadata": {},
   "outputs": [
    {
     "data": {
      "text/html": [
       "\n",
       "<div class=\"header\">\n",
       "  <img src=\"data/bewy.png\"/>\n",
       "  <p style=\"color:#4b4a98; text-align:center\">Select sample users, pick a recommendation flavour, and enjoy !</p>\n",
       "</div>\n",
       "\n",
       "<style>\n",
       ".header {\n",
       "  padding: 20px;\n",
       "  text-align: center;\n",
       "  background: #e9edee;\n",
       "  color: white;\n",
       "  font-size: 30px;\n",
       "}\n",
       "\n",
       "</style>\n"
      ],
      "text/plain": [
       "<IPython.core.display.HTML object>"
      ]
     },
     "execution_count": 6,
     "metadata": {},
     "output_type": "execute_result"
    }
   ],
   "source": [
    "HTML(\"\"\"\n",
    "<div class=\"header\">\n",
    "  <img src=\"data/bewy.png\"/>\n",
    "  <p style=\"color:#4b4a98; text-align:center\">Select sample users, pick a recommendation flavour, and enjoy !</p>\n",
    "</div>\n",
    "\n",
    "<style>\n",
    ".header {\n",
    "  padding: 20px;\n",
    "  text-align: center;\n",
    "  background: #e9edee;\n",
    "  color: white;\n",
    "  font-size: 30px;\n",
    "}\n",
    "\n",
    "</style>\n",
    "\"\"\")"
   ]
  },
  {
   "cell_type": "code",
   "execution_count": 7,
   "metadata": {},
   "outputs": [],
   "source": [
    "pref_artists = lambda x : set(x.sort_values(by='plays', ascending=False).head(10)['artist-name'])\n",
    "values = df_1kfamous_with_ratings.groupby('catuser').apply(pref_artists)"
   ]
  },
  {
   "cell_type": "code",
   "execution_count": 8,
   "metadata": {},
   "outputs": [],
   "source": [
    "user_selector = widgets.SelectMultiple(\n",
    "    options=values,\n",
    "    description=\"\",\n",
    "    disabled=False,\n",
    "    layout=Layout(width='100%', height='200px', overflow='hidden')\n",
    ")"
   ]
  },
  {
   "cell_type": "code",
   "execution_count": 9,
   "metadata": {},
   "outputs": [],
   "source": [
    "file = open(\"data/loading.gif\", \"rb\")\n",
    "image = file.read()\n",
    "loading = widgets.Image(\n",
    "    value=image,\n",
    "    format='png',\n",
    "    width=500,\n",
    ")\n",
    "\n",
    "box_layout = widgets.Layout(display='flex',\n",
    "                flex_flow='column',\n",
    "                align_items='center',\n",
    "                width='100%')\n",
    "\n",
    "img_box = widgets.HBox(children=[loading],layout=box_layout)"
   ]
  },
  {
   "cell_type": "code",
   "execution_count": 10,
   "metadata": {},
   "outputs": [
    {
     "data": {
      "text/html": [
       "\n",
       "<style>\n",
       "div.ui-slider-range.ui-corner-all.ui-widget-header{\n",
       "    background:red;\n",
       "    height:0;\n",
       "    margin-top:0;\n",
       "}\n",
       "</style>\n"
      ],
      "text/plain": [
       "<IPython.core.display.HTML object>"
      ]
     },
     "execution_count": 10,
     "metadata": {},
     "output_type": "execute_result"
    }
   ],
   "source": [
    "HTML(\"\"\"\n",
    "<style>\n",
    "div.ui-slider-range.ui-corner-all.ui-widget-header{\n",
    "    background:red;\n",
    "    height:0;\n",
    "    margin-top:0;\n",
    "}\n",
    "</style>\n",
    "\"\"\")"
   ]
  },
  {
   "cell_type": "code",
   "execution_count": 11,
   "metadata": {},
   "outputs": [],
   "source": [
    "percentage = widgets.FloatRangeSlider(\n",
    "    value=[0.7, 0.85],\n",
    "    min=0,\n",
    "    max=1.0,\n",
    "    step=0.05,\n",
    "    description='Percentage',\n",
    "    disabled=False,\n",
    "    continuous_update=False,\n",
    "    orientation='horizontal',\n",
    "    readout=True,\n",
    "    readout_format='.2f',\n",
    ")"
   ]
  },
  {
   "cell_type": "code",
   "execution_count": 12,
   "metadata": {},
   "outputs": [],
   "source": [
    "gammas = widgets.FloatSlider(\n",
    "    value=0.95,\n",
    "    min=0.5,\n",
    "    max=1.0,\n",
    "    step=0.01,\n",
    "    description='Gamma',\n",
    "    disabled=False,\n",
    "    continuous_update=False,\n",
    "    orientation='horizontal',\n",
    "    readout=True,\n",
    "    readout_format='.2f',\n",
    ")"
   ]
  },
  {
   "cell_type": "code",
   "execution_count": 13,
   "metadata": {},
   "outputs": [],
   "source": [
    "%autoreload 2"
   ]
  },
  {
   "cell_type": "code",
   "execution_count": 14,
   "metadata": {},
   "outputs": [
    {
     "data": {
      "application/vnd.jupyter.widget-view+json": {
       "model_id": "96f97c495735427e889b078de06c61b7",
       "version_major": 2,
       "version_minor": 0
      },
      "text/plain": [
       "interactive(children=(FloatSlider(value=0.95, continuous_update=False, description='Gamma', max=1.0, min=0.5, …"
      ]
     },
     "metadata": {},
     "output_type": "display_data"
    },
    {
     "data": {
      "application/vnd.jupyter.widget-view+json": {
       "model_id": "7da51dec43cd4639955e2d476695811c",
       "version_major": 2,
       "version_minor": 0
      },
      "text/plain": [
       "Output()"
      ]
     },
     "metadata": {},
     "output_type": "display_data"
    }
   ],
   "source": [
    "def display_playlist(playlist):\n",
    "    todisp = playlist.to_html(index=False).replace('class=\"dataframe\"', 'class=\"dataframe\" style=\"width:100%\"')\n",
    "    display(HTML(todisp))\n",
    "\n",
    "out_loader = widgets.Output()\n",
    "\n",
    "def display_from_users(gamma,perc, users):\n",
    "    \n",
    "    TOTAL_LENGTH = 20\n",
    "    \n",
    "    out_loader.clear_output()\n",
    "    \n",
    "    if len(users) > 1:\n",
    "        with out_loader:\n",
    "            user_ids = [values[values == user].index[0] for user in users]\n",
    "\n",
    "            r1 = CollabRecommender('data/implicit_model.pkl', user_ids, famous_tracks_c, df_1kfamous_with_ratings, gamma=gamma)\n",
    "            r2 = ContentRecommender(user_ids, famous_tracks_c, df_1kfamous_with_ratings)\n",
    "            r3 = HeuristicRecommender(user_ids, famous_tracks_c, df_1kfamous_with_ratings, 'data/genre_artists.pkl')\n",
    "\n",
    "            display(img_box)\n",
    "            \n",
    "            time.sleep(2)\n",
    "            \n",
    "            n1 = int(perc[0]*TOTAL_LENGTH)\n",
    "            n2 = int((perc[1]-perc[0])*TOTAL_LENGTH)\n",
    "            n3 = TOTAL_LENGTH - (n1+n2)\n",
    "            \n",
    "            lists = [r.compute_playlist(n) for n,r in zip([n1,n2,n3],[r1,r2,r3])]\n",
    "            playlist = pd.concat(lists)\n",
    "            out_loader.clear_output()\n",
    "            \n",
    "            for l in lists:\n",
    "                display_playlist(l)\n",
    "        \n",
    "        \n",
    "_ = interact(display_from_users, users=user_selector, perc=percentage, gamma=gammas)\n",
    "display(out_loader)"
   ]
  },
  {
   "cell_type": "code",
   "execution_count": null,
   "metadata": {},
   "outputs": [],
   "source": []
  }
 ],
 "metadata": {
  "kernelspec": {
   "display_name": "Python 3",
   "language": "python",
   "name": "python3"
  },
  "language_info": {
   "codemirror_mode": {
    "name": "ipython",
    "version": 3
   },
   "file_extension": ".py",
   "mimetype": "text/x-python",
   "name": "python",
   "nbconvert_exporter": "python",
   "pygments_lexer": "ipython3",
   "version": "3.8.3"
  }
 },
 "nbformat": 4,
 "nbformat_minor": 4
}
