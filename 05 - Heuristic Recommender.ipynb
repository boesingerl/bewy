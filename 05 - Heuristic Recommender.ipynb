{
 "cells": [
  {
   "cell_type": "markdown",
   "metadata": {},
   "source": [
    "# Goal of the Notebook\n",
    "\n",
    "This notebook contains all things relevant to the Heuristic based Recommender Part of the project.\n",
    "\n",
    "The Heuristic Recommender has several parts :\n",
    "\n",
    "- Recommending Songs Users have in Common\n",
    "- Recommending Songs from Artists Users have in Common\n",
    "- Recommending Songs from Popular Artists in Genres User have in Common\n",
    "\n",
    "In order to determine what users have in Common, we don't simply compute an intersection : this wouldn't scale, for a large amount of users, we would have absolutely no recall. \n",
    "\n",
    "Instead, we create some voting system, where each user has a vote, and we take all items which have enough votes."
   ]
  },
  {
   "cell_type": "markdown",
   "metadata": {},
   "source": [
    "### Loading Data\n",
    "\n",
    "We simply load the datasets and create a sample of users (relatively large to verify that our method scales)"
   ]
  },
  {
   "cell_type": "code",
   "execution_count": 1,
   "metadata": {},
   "outputs": [],
   "source": [
    "import pandas as pd\n",
    "from functools import reduce\n",
    "\n",
    "famous_tracks = pd.read_csv('data/features.csv')\n",
    "df_1kfamous   = pd.read_csv('data/df_1kfamous.csv',index_col=0)\n",
    "test_users = df_1kfamous['user-id'].sample(n=10).values"
   ]
  },
  {
   "cell_type": "markdown",
   "metadata": {},
   "source": [
    "## Common Songs and artists"
   ]
  },
  {
   "cell_type": "markdown",
   "metadata": {},
   "source": [
    "### Common artists\n",
    "\n",
    "In this part, we compute the artists which are listened to by the most users, along with the mean number of plays per user. \n",
    "\n",
    "We will then use the Top-k from this table, sample a single song from each artist, to get a playlist of k songs.\n"
   ]
  },
  {
   "cell_type": "code",
   "execution_count": 2,
   "metadata": {},
   "outputs": [
    {
     "data": {
      "text/html": [
       "<div>\n",
       "<style scoped>\n",
       "    .dataframe tbody tr th:only-of-type {\n",
       "        vertical-align: middle;\n",
       "    }\n",
       "\n",
       "    .dataframe tbody tr th {\n",
       "        vertical-align: top;\n",
       "    }\n",
       "\n",
       "    .dataframe thead th {\n",
       "        text-align: right;\n",
       "    }\n",
       "</style>\n",
       "<table border=\"1\" class=\"dataframe\">\n",
       "  <thead>\n",
       "    <tr style=\"text-align: right;\">\n",
       "      <th></th>\n",
       "      <th>user-id</th>\n",
       "      <th>plays</th>\n",
       "    </tr>\n",
       "    <tr>\n",
       "      <th>artist-name</th>\n",
       "      <th></th>\n",
       "      <th></th>\n",
       "    </tr>\n",
       "  </thead>\n",
       "  <tbody>\n",
       "    <tr>\n",
       "      <th>The Killers</th>\n",
       "      <td>9</td>\n",
       "      <td>8.777778</td>\n",
       "    </tr>\n",
       "    <tr>\n",
       "      <th>Mgmt</th>\n",
       "      <td>8</td>\n",
       "      <td>33.750000</td>\n",
       "    </tr>\n",
       "    <tr>\n",
       "      <th>Radiohead</th>\n",
       "      <td>7</td>\n",
       "      <td>41.000000</td>\n",
       "    </tr>\n",
       "    <tr>\n",
       "      <th>Röyksopp</th>\n",
       "      <td>7</td>\n",
       "      <td>34.571429</td>\n",
       "    </tr>\n",
       "    <tr>\n",
       "      <th>Portishead</th>\n",
       "      <td>7</td>\n",
       "      <td>29.857143</td>\n",
       "    </tr>\n",
       "  </tbody>\n",
       "</table>\n",
       "</div>"
      ],
      "text/plain": [
       "             user-id      plays\n",
       "artist-name                    \n",
       "The Killers        9   8.777778\n",
       "Mgmt               8  33.750000\n",
       "Radiohead          7  41.000000\n",
       "Röyksopp           7  34.571429\n",
       "Portishead         7  29.857143"
      ]
     },
     "execution_count": 2,
     "metadata": {},
     "output_type": "execute_result"
    }
   ],
   "source": [
    "df_play_per_user = df_1kfamous[df_1kfamous['user-id'].isin(test_users)]\n",
    "df_artist_per_user = pd.DataFrame(df_play_per_user.groupby('user-id')['artist-name'].apply(set).apply(list))\n",
    "\n",
    "df_plays_by_artist = (df_play_per_user[['artist-name','plays','user-id']]\n",
    " .groupby(['user-id','artist-name'])\n",
    " .sum()\n",
    " .reset_index()[['artist-name','plays']]\n",
    " .groupby('artist-name').mean()\n",
    " .sort_values('plays',ascending=False))\n",
    "\n",
    "df_nb_users = df_artist_per_user.reset_index().explode('artist-name').groupby('artist-name').count().sort_values('user-id',ascending=False)\n",
    "\n",
    "df_nb_users.merge(right=df_plays_by_artist,on='artist-name').sort_values(by=['user-id','plays'],ascending = False).head(5)"
   ]
  },
  {
   "cell_type": "markdown",
   "metadata": {},
   "source": [
    "### Common songs \n",
    "\n",
    "In this part, we compute the songs which are listened to by the most users, along with the mean number of plays per user. \n",
    "\n",
    "We will then use the Top-k from this table, to get a playlist of k songs.\n"
   ]
  },
  {
   "cell_type": "code",
   "execution_count": 3,
   "metadata": {},
   "outputs": [
    {
     "data": {
      "text/html": [
       "<div>\n",
       "<style scoped>\n",
       "    .dataframe tbody tr th:only-of-type {\n",
       "        vertical-align: middle;\n",
       "    }\n",
       "\n",
       "    .dataframe tbody tr th {\n",
       "        vertical-align: top;\n",
       "    }\n",
       "\n",
       "    .dataframe thead th {\n",
       "        text-align: right;\n",
       "    }\n",
       "</style>\n",
       "<table border=\"1\" class=\"dataframe\">\n",
       "  <thead>\n",
       "    <tr style=\"text-align: right;\">\n",
       "      <th></th>\n",
       "      <th>user-id</th>\n",
       "      <th>plays</th>\n",
       "    </tr>\n",
       "    <tr>\n",
       "      <th>track-name</th>\n",
       "      <th></th>\n",
       "      <th></th>\n",
       "    </tr>\n",
       "  </thead>\n",
       "  <tbody>\n",
       "    <tr>\n",
       "      <th>Electric Feel</th>\n",
       "      <td>8</td>\n",
       "      <td>5.125000</td>\n",
       "    </tr>\n",
       "    <tr>\n",
       "      <th>Time To Pretend</th>\n",
       "      <td>7</td>\n",
       "      <td>8.714286</td>\n",
       "    </tr>\n",
       "    <tr>\n",
       "      <th>Kids</th>\n",
       "      <td>7</td>\n",
       "      <td>6.142857</td>\n",
       "    </tr>\n",
       "    <tr>\n",
       "      <th>Weekend Wars</th>\n",
       "      <td>7</td>\n",
       "      <td>2.857143</td>\n",
       "    </tr>\n",
       "    <tr>\n",
       "      <th>4Th Dimensional Transition</th>\n",
       "      <td>7</td>\n",
       "      <td>2.000000</td>\n",
       "    </tr>\n",
       "  </tbody>\n",
       "</table>\n",
       "</div>"
      ],
      "text/plain": [
       "                            user-id     plays\n",
       "track-name                                   \n",
       "Electric Feel                     8  5.125000\n",
       "Time To Pretend                   7  8.714286\n",
       "Kids                              7  6.142857\n",
       "Weekend Wars                      7  2.857143\n",
       "4Th Dimensional Transition        7  2.000000"
      ]
     },
     "execution_count": 3,
     "metadata": {},
     "output_type": "execute_result"
    }
   ],
   "source": [
    "# get all songs listened to by user\n",
    "df_song_per_user = pd.DataFrame(df_play_per_user.groupby('user-id')['track-name'].apply(set).apply(list))\n",
    "\n",
    "# get total number of plays per track in group\n",
    "df_plays_by_track = (df_play_per_user[['track-name','plays','user-id']]\n",
    " .groupby(['user-id','track-name'])\n",
    " .sum()\n",
    " .reset_index()[['track-name','plays']]\n",
    " .groupby('track-name').mean()\n",
    " .sort_values('plays',ascending=False))\n",
    "\n",
    "# get number of users that listen to track\n",
    "df_nb_users_play = (df_song_per_user\n",
    "                    .reset_index()\n",
    "                    .explode('track-name')\n",
    "                    .groupby('track-name')\n",
    "                    .count()\n",
    "                    .sort_values('user-id',ascending=False))\n",
    "\n",
    "# merge both previous\n",
    "df_nb_users_play.merge(right=df_plays_by_track,on='track-name').sort_values(by=['user-id','plays'],ascending = False).head(5)"
   ]
  },
  {
   "cell_type": "markdown",
   "metadata": {},
   "source": [
    "## Popular songs\n",
    "\n",
    "In this part, we compute the genres which are listened to by the most users, along with the mean number of plays per user. \n",
    "\n",
    "We will then use the Top-k from this table, sample a single artist from each genre. Then,from each artist, we sample a single song per artist to get a playlist of k songs.\n"
   ]
  },
  {
   "cell_type": "code",
   "execution_count": 4,
   "metadata": {},
   "outputs": [],
   "source": [
    "# get all songs listened to by users\n",
    "df_users = df_1kfamous[df_1kfamous['user-id'].isin(test_users)]\n",
    "\n",
    "# per track genres\n",
    "df_music_genre = famous_tracks[['musicbrainz-track-id','genres']]\n",
    "\n",
    "# merge genres by users\n",
    "df_merge = df_users.merge(right=df_music_genre,left_on='track-id',right_on='musicbrainz-track-id')\n",
    "df_merge.genres = df_merge.genres.apply(lambda x : list(eval(x)))\n",
    "\n",
    "# one entry per genre\n",
    "df_merge_exploded = df_merge.explode('genres')\n",
    "\n",
    "# get mean number of plays over the group of users\n",
    "df_plays_by_genre = (df_merge_exploded[['genres','plays','user-id']]\n",
    " .groupby(['user-id','genres'])\n",
    " .sum()\n",
    " .reset_index()[['genres','plays']]\n",
    " .groupby('genres').median()\n",
    " .sort_values('plays',ascending=False))\n",
    "\n",
    "# get number of users that listen to the genre\n",
    "df_nb_users_genre = (df_merge_exploded.groupby('user-id')['genres'].apply(set).apply(list)\n",
    "                     .reset_index()\n",
    "                     .explode('genres')\n",
    "                    .groupby('genres')\n",
    "                    .count()\n",
    "                    .sort_values('user-id',ascending=False))\n",
    "\n",
    "# merge two previous df \n",
    "df_top_genres = df_nb_users_genre.merge(right=df_plays_by_genre,on='genres').sort_values(by=['user-id','plays'],ascending = False).head(20)"
   ]
  },
  {
   "cell_type": "markdown",
   "metadata": {},
   "source": [
    "### Dictionary of artists per genre\n",
    "\n",
    "We create and save a dictionary of artists in a given genre."
   ]
  },
  {
   "cell_type": "code",
   "execution_count": 5,
   "metadata": {},
   "outputs": [],
   "source": [
    "tracks = famous_tracks.copy()\n",
    "tracks.genres = tracks.genres.apply(lambda x : list(eval(x)))\n",
    "genre_dict = tracks.explode('genres')[['genres', 'musicbrainz-artist-id']].groupby('genres').apply(lambda x : set(x['musicbrainz-artist-id'])).to_dict()"
   ]
  },
  {
   "cell_type": "code",
   "execution_count": null,
   "metadata": {},
   "outputs": [],
   "source": [
    "#import pickle\n",
    "\n",
    "#with open('data/genre_artists.pkl', 'wb') as f:\n",
    "#    pickle.dump(genre_dict, f)"
   ]
  },
  {
   "cell_type": "markdown",
   "metadata": {},
   "source": [
    "# Note : Integration in the Final Product\n",
    "\n",
    "The python file **heuristic_recommender.py** includes a class which uses the result from the current notebook to be used in the final prototype (06 - Merged Recommender)."
   ]
  },
  {
   "cell_type": "markdown",
   "metadata": {},
   "source": [
    "# Note : Evaluating the Final Playlist\n",
    "\n",
    "We have thought thoroughly to find a manner in which we could evaluate the playlist returned by the heuristic recommender, but just like the Content Based Recommender, it is not really meant to work with the previous relevance, we however still show some metrics :"
   ]
  }
 ],
 "metadata": {
  "kernelspec": {
   "display_name": "Python 3",
   "language": "python",
   "name": "python3"
  },
  "language_info": {
   "codemirror_mode": {
    "name": "ipython",
    "version": 3
   },
   "file_extension": ".py",
   "mimetype": "text/x-python",
   "name": "python",
   "nbconvert_exporter": "python",
   "pygments_lexer": "ipython3",
   "version": "3.8.3"
  }
 },
 "nbformat": 4,
 "nbformat_minor": 5
}
