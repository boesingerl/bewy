{
 "cells": [
  {
   "cell_type": "markdown",
   "metadata": {},
   "source": [
    "# Presentation"
   ]
  },
  {
   "cell_type": "markdown",
   "metadata": {},
   "source": [
    "We are interested in the theme \"Predicting a playlist that satisfies group members (e.g., to decide the music to play in a party).\", from this theme, we define the following research questions :"
   ]
  },
  {
   "cell_type": "markdown",
   "metadata": {},
   "source": [
    "## Research questions"
   ]
  },
  {
   "cell_type": "markdown",
   "metadata": {},
   "source": [
    "- **How to determine a similarity metric among artists, given a list of user-artist-plays tuples?**\n",
    "    - From users' listening patterns on the 360K dataset, generate features to decide if an artist is more liked than another (ex : listened much more than the user's average per-artist plays)\n",
    "    - Using SVD or matrix factorization using the previous features, generate a similarity feature space with respect to users and artists\n",
    "- **How to compute a set of recommended artist, given previous similarity metrics, and a set of known-liked artists ?**\n",
    "    - Find clustering of artists given similarity metric\n",
    "    - Multiple ideas for generating the set : \n",
    "        - Use the mean of top artists of our users to determine a \"center point\" => may not be great, given that SVD isn't required to create a feature space that makes sense when we try to get the center (try to please everyone but please no one)\n",
    "        - Pick artists that are close to each user's center point, but tends to be slightly biased towards others (please each user one at a time)\n",
    "    \n",
    "- **From a set of artists, how to compute the best fitting playlist ?**\n",
    "    - Using other datasets, such as spotify's dataset, sample top tracks from our selected artist\n",
    "    - More in depth : same analysis as before, but finding a set of music tracks using the 1K Dataset instead of the 360K"
   ]
  },
  {
   "cell_type": "markdown",
   "metadata": {},
   "source": [
    "## Datasets used"
   ]
  },
  {
   "cell_type": "markdown",
   "metadata": {},
   "source": [
    "**1) Last.fm Dataset - 360K users (user top artists)**\n",
    "\n",
    "This dataset contains <user, artist-mbid, artist-name, total-plays> tuples (for ~360,000 users) collected from Last.fm API, using the user.getTopArtists() method.\n",
    "\n",
    "\n",
    "**2) Last.fm Dataset - 1K users (user full listening history)**\n",
    "\n",
    "This dataset contains <user-id, timestamp, artist-mbid, artist-name, song-mbid, song-title> tuples collected from Last.fm API, using the user.getRecentTracks() method.\n",
    "The dataset represents the full listening history (till May, 5th 2009) for nearly 1,000 users."
   ]
  },
  {
   "cell_type": "markdown",
   "metadata": {},
   "source": [
    "## Libraries used\n",
    "\n",
    "We may want to use dask dataframes (pandas dataframes divided in multiple partitions) if the pandas one doesn't fit into memory."
   ]
  },
  {
   "cell_type": "code",
   "execution_count": 1,
   "metadata": {},
   "outputs": [],
   "source": [
    "import pandas as pd\n",
    "import dask.dataframe as dd\n",
    "import tarfile\n",
    "from dask.delayed import delayed"
   ]
  },
  {
   "cell_type": "markdown",
   "metadata": {},
   "source": [
    "# Coding"
   ]
  },
  {
   "cell_type": "markdown",
   "metadata": {},
   "source": [
    "## Loading Data\n",
    "\n",
    "Here we load the csv files into pandas dataframes"
   ]
  },
  {
   "cell_type": "code",
   "execution_count": 2,
   "metadata": {},
   "outputs": [],
   "source": [
    "cols_1k   = ['userid','timestamp','musicbrainz-artist-id','artist-name','musicbrainz-track-id','track-name']\n",
    "cols_360k = ['user-id','artist-id','artist-name','plays']\n",
    "\n",
    "PATH_1k   = 'data/lastfm-dataset-1K.tar.gz'\n",
    "PATH_360k = 'data/lastfm-dataset-360K.tar.gz'\n",
    "\n",
    "PATH_1k_data   = 'lastfm-dataset-1K/userid-timestamp-artid-artname-traid-traname.tsv'\n",
    "PATH_360k_data = 'lastfm-dataset-360K/usersha1-artmbid-artname-plays.tsv'\n",
    "\n",
    "with tarfile.open(PATH_1k, \"r:*\") as tar:\n",
    "    df_1k = pd.read_csv(tar.extractfile(PATH_1k_data), sep=\"\\t\", error_bad_lines=False, header=0, names=cols_1k)\n",
    "\n",
    "with tarfile.open(PATH_360k, \"r:*\") as tar:\n",
    "    df_360k = pd.read_csv(tar.extractfile(PATH_360k_data), sep=\"\\t\", error_bad_lines=False, header=0, names=cols_360k)"
   ]
  },
  {
   "cell_type": "markdown",
   "metadata": {},
   "source": [
    "## Exploratory Data analysis"
   ]
  },
  {
   "cell_type": "markdown",
   "metadata": {},
   "source": [
    "### Data Cleaning"
   ]
  },
  {
   "cell_type": "markdown",
   "metadata": {},
   "source": [
    "#### We keep only user-ids that are valid sha-1 hashes "
   ]
  },
  {
   "cell_type": "code",
   "execution_count": 18,
   "metadata": {},
   "outputs": [],
   "source": [
    "sha1_match = r'\\b([a-f0-9]{40})\\b'\n",
    "\n",
    "df_360k = df_360k[df_360k['user-id'].str.fullmatch(sha1_match)]"
   ]
  },
  {
   "cell_type": "markdown",
   "metadata": {},
   "source": [
    "#### We do the same, but this time for the artist ids (some are na by default, we just remove them as well) :"
   ]
  },
  {
   "cell_type": "code",
   "execution_count": 31,
   "metadata": {},
   "outputs": [],
   "source": [
    "artist_match = r'\\b([a-f0-9]{8})-([a-f0-9]{4})-([a-f0-9]{4})-([a-f0-9]{4})-([a-f0-9]{12})\\b'\n",
    "\n",
    "df_360k = df_360k[df_360k['artist-id'].str.fullmatch(artist_match, na=False)]"
   ]
  },
  {
   "cell_type": "markdown",
   "metadata": {},
   "source": [
    "#### Just to be safe : let's check that we always have a positive amount of plays"
   ]
  },
  {
   "cell_type": "code",
   "execution_count": 42,
   "metadata": {},
   "outputs": [
    {
     "data": {
      "text/plain": [
       "False"
      ]
     },
     "execution_count": 42,
     "metadata": {},
     "output_type": "execute_result"
    }
   ],
   "source": [
    "(df_360k['plays'] <= 0).any()"
   ]
  },
  {
   "cell_type": "markdown",
   "metadata": {},
   "source": [
    "#### We can now simply describe the dataset :"
   ]
  },
  {
   "cell_type": "code",
   "execution_count": 38,
   "metadata": {},
   "outputs": [
    {
     "data": {
      "text/html": [
       "<div>\n",
       "<style scoped>\n",
       "    .dataframe tbody tr th:only-of-type {\n",
       "        vertical-align: middle;\n",
       "    }\n",
       "\n",
       "    .dataframe tbody tr th {\n",
       "        vertical-align: top;\n",
       "    }\n",
       "\n",
       "    .dataframe thead th {\n",
       "        text-align: right;\n",
       "    }\n",
       "</style>\n",
       "<table border=\"1\" class=\"dataframe\">\n",
       "  <thead>\n",
       "    <tr style=\"text-align: right;\">\n",
       "      <th></th>\n",
       "      <th>plays</th>\n",
       "    </tr>\n",
       "  </thead>\n",
       "  <tbody>\n",
       "    <tr>\n",
       "      <th>count</th>\n",
       "      <td>1.730707e+07</td>\n",
       "    </tr>\n",
       "    <tr>\n",
       "      <th>mean</th>\n",
       "      <td>2.160583e+02</td>\n",
       "    </tr>\n",
       "    <tr>\n",
       "      <th>std</th>\n",
       "      <td>6.170583e+02</td>\n",
       "    </tr>\n",
       "    <tr>\n",
       "      <th>min</th>\n",
       "      <td>1.000000e+00</td>\n",
       "    </tr>\n",
       "    <tr>\n",
       "      <th>25%</th>\n",
       "      <td>3.500000e+01</td>\n",
       "    </tr>\n",
       "    <tr>\n",
       "      <th>50%</th>\n",
       "      <td>9.500000e+01</td>\n",
       "    </tr>\n",
       "    <tr>\n",
       "      <th>75%</th>\n",
       "      <td>2.250000e+02</td>\n",
       "    </tr>\n",
       "    <tr>\n",
       "      <th>max</th>\n",
       "      <td>4.191570e+05</td>\n",
       "    </tr>\n",
       "  </tbody>\n",
       "</table>\n",
       "</div>"
      ],
      "text/plain": [
       "              plays\n",
       "count  1.730707e+07\n",
       "mean   2.160583e+02\n",
       "std    6.170583e+02\n",
       "min    1.000000e+00\n",
       "25%    3.500000e+01\n",
       "50%    9.500000e+01\n",
       "75%    2.250000e+02\n",
       "max    4.191570e+05"
      ]
     },
     "execution_count": 38,
     "metadata": {},
     "output_type": "execute_result"
    }
   ],
   "source": [
    "df_360k.describe()"
   ]
  },
  {
   "cell_type": "markdown",
   "metadata": {},
   "source": [
    "After this simple cleaning, we still have around 17 million entries : this is nice because we have a lot of data, but we'll have to think about how to process it all efficiently. \n",
    "\n",
    "From this, we know that the mean number of plays is 216, but the std is quite high : at 617."
   ]
  },
  {
   "cell_type": "markdown",
   "metadata": {},
   "source": [
    "#### Since we dropped na artist ids, all those value are non na, what about other columns :"
   ]
  },
  {
   "cell_type": "code",
   "execution_count": 33,
   "metadata": {},
   "outputs": [
    {
     "data": {
      "text/plain": [
       "user-id        False\n",
       "artist-id      False\n",
       "artist-name     True\n",
       "plays          False\n",
       "dtype: bool"
      ]
     },
     "execution_count": 33,
     "metadata": {},
     "output_type": "execute_result"
    }
   ],
   "source": [
    "df_360k.isna().any()"
   ]
  },
  {
   "cell_type": "code",
   "execution_count": 43,
   "metadata": {},
   "outputs": [
    {
     "data": {
      "text/plain": [
       "False    17306872\n",
       "True          202\n",
       "Name: artist-name, dtype: int64"
      ]
     },
     "execution_count": 43,
     "metadata": {},
     "output_type": "execute_result"
    }
   ],
   "source": [
    "df_360k['artist-name'].isna().value_counts()"
   ]
  },
  {
   "cell_type": "markdown",
   "metadata": {},
   "source": [
    "There's so few that we can probably remove artists with no name"
   ]
  },
  {
   "cell_type": "code",
   "execution_count": 44,
   "metadata": {},
   "outputs": [],
   "source": [
    "df_360k = df_360k.dropna()"
   ]
  },
  {
   "cell_type": "markdown",
   "metadata": {},
   "source": [
    "### Let's explore :"
   ]
  },
  {
   "cell_type": "markdown",
   "metadata": {},
   "source": [
    "#### Let's find more information about the average users"
   ]
  },
  {
   "cell_type": "code",
   "execution_count": 54,
   "metadata": {},
   "outputs": [
    {
     "data": {
      "text/plain": [
       "(48.226879305348106, 8.569585664633415)"
      ]
     },
     "execution_count": 54,
     "metadata": {},
     "output_type": "execute_result"
    }
   ],
   "source": [
    "per_user_sets = df_360k.groupby('user-id').agg(lambda x : set(x))\n",
    "\n",
    "set_len = per_user_sets['artist-id'].apply(lambda x : len(x))\n",
    "\n",
    "(set_len.mean(), set_len.std())"
   ]
  },
  {
   "cell_type": "markdown",
   "metadata": {},
   "source": [
    "We see that on average, people listen to around 48 artists, with a standard deviation of 8.5."
   ]
  },
  {
   "cell_type": "markdown",
   "metadata": {},
   "source": [
    "#### Now let's try the same, considering artists listened more than 50 times per user :"
   ]
  },
  {
   "cell_type": "code",
   "execution_count": 55,
   "metadata": {},
   "outputs": [
    {
     "data": {
      "text/plain": [
       "(34.66633220915675, 18.26807005903841)"
      ]
     },
     "execution_count": 55,
     "metadata": {},
     "output_type": "execute_result"
    }
   ],
   "source": [
    "per_user_sets = df_360k[df_360k['plays'] > 50].groupby('user-id').agg(lambda x : set(x))\n",
    "\n",
    "set_len = per_user_sets['artist-id'].apply(lambda x : len(x))\n",
    "\n",
    "(set_len.mean(), set_len.std())"
   ]
  },
  {
   "cell_type": "markdown",
   "metadata": {},
   "source": [
    "As expected, the mean is lower, and the standard deviation is a good amount higher."
   ]
  },
  {
   "cell_type": "markdown",
   "metadata": {},
   "source": [
    "#### What about the distribution of plays ?"
   ]
  },
  {
   "cell_type": "markdown",
   "metadata": {},
   "source": [
    "##### With respect to users"
   ]
  },
  {
   "cell_type": "code",
   "execution_count": 65,
   "metadata": {},
   "outputs": [],
   "source": [
    "import matplotlib.pyplot as plt"
   ]
  },
  {
   "cell_type": "code",
   "execution_count": 68,
   "metadata": {},
   "outputs": [
    {
     "data": {
      "text/plain": [
       "[Text(0.5, 1.0, 'Distribution of the number of plays with respect to users'),\n",
       " Text(0.5, 0, 'Number of users'),\n",
       " Text(0, 0.5, 'Number of plays')]"
      ]
     },
     "execution_count": 68,
     "metadata": {},
     "output_type": "execute_result"
    },
    {
     "data": {
      "image/png": "[encoded data removed]",
      "text/plain": [
       "<Figure size 432x288 with 1 Axes>"
      ]
     },
     "metadata": {
      "needs_background": "light"
     },
     "output_type": "display_data"
    }
   ],
   "source": [
    "df_360k.groupby('user-id').mean()['plays'].plot(kind='hist', bins=500, logy=True, logx=True, histtype='step')\n",
    "plt.gca().set(title='Distribution of the number of plays with respect to users', xlabel='Number of users', ylabel='Number of plays');"
   ]
  },
  {
   "cell_type": "markdown",
   "metadata": {},
   "source": [
    "We see that a large majority of users have a number of plays under 1000, however we have no information about the time period, so it is hard to get more information than this, it's just something to keep in mind when we will be creating our features later : we should make sure to take into account the user's mean number of plays, rather than the global one, when we consider if a user likes an artist."
   ]
  },
  {
   "cell_type": "markdown",
   "metadata": {},
   "source": [
    "##### With respect to artists"
   ]
  },
  {
   "cell_type": "code",
   "execution_count": 62,
   "metadata": {},
   "outputs": [
    {
     "data": {
      "text/plain": [
       "<AxesSubplot:ylabel='Frequency'>"
      ]
     },
     "execution_count": 62,
     "metadata": {},
     "output_type": "execute_result"
    },
    {
     "data": {
      "image/png": "[encoded data removed]",
      "text/plain": [
       "<Figure size 432x288 with 1 Axes>"
      ]
     },
     "metadata": {
      "needs_background": "light"
     },
     "output_type": "display_data"
    }
   ],
   "source": [
    "df_360k.groupby('artist-id').mean()['plays'].plot(kind='hist', bins=500, logy=True, logx=True, histtype='step')\n",
    "plt.gca().set(title='Distribution of the number of plays with respect to artists', xlabel='Number of artists', ylabel='Number of plays')"
   ]
  },
  {
   "cell_type": "markdown",
   "metadata": {},
   "source": [
    "Again, we see that most artists have a low number of plays, while some top artists are responsible for a larger amount.\n",
    "\n",
    "For both graphs we have, we can't really say whether they follow a power-law or any real known distribution : from our log-log plot, there is no obvious shape, but we definitely need to keep in mind that particularity."
   ]
  },
  {
   "cell_type": "markdown",
   "metadata": {},
   "source": [
    "#### What are our top artists?"
   ]
  },
  {
   "cell_type": "code",
   "execution_count": 78,
   "metadata": {},
   "outputs": [
    {
     "data": {
      "text/plain": [
       "160075"
      ]
     },
     "execution_count": 78,
     "metadata": {},
     "output_type": "execute_result"
    }
   ],
   "source": [
    "len(df_360k['artist-id'].unique())"
   ]
  },
  {
   "cell_type": "markdown",
   "metadata": {},
   "source": [
    "That's a lot of different artists !"
   ]
  },
  {
   "cell_type": "markdown",
   "metadata": {},
   "source": [
    "#### What are our top artists?"
   ]
  },
  {
   "cell_type": "code",
   "execution_count": 75,
   "metadata": {},
   "outputs": [
    {
     "data": {
      "text/plain": [
       "array(['the beatles', 'beatles', 'beatles, the', 'radiohead', 'coldplay',\n",
       "       'pink floyd', 'pink fluid', 'metallica'], dtype=object)"
      ]
     },
     "execution_count": 75,
     "metadata": {},
     "output_type": "execute_result"
    }
   ],
   "source": [
    "top_artist_id = df_360k.groupby('artist-id').sum().sort_values(by='plays',ascending=False).head(5)\n",
    "\n",
    "top_artist_id_names = top_artist_id.merge(df_360k,on='artist-id')['artist-name'].unique()\n",
    "\n",
    "top_artist_id_names"
   ]
  },
  {
   "cell_type": "markdown",
   "metadata": {},
   "source": [
    "Those names are somewhat expected, but that shows that we have to make sure to use artist ids rather than names in the long run."
   ]
  }
 ],
 "metadata": {
  "kernelspec": {
   "display_name": "Python 3",
   "language": "python",
   "name": "python3"
  },
  "language_info": {
   "codemirror_mode": {
    "name": "ipython",
    "version": 3
   },
   "file_extension": ".py",
   "mimetype": "text/x-python",
   "name": "python",
   "nbconvert_exporter": "python",
   "pygments_lexer": "ipython3",
   "version": "3.8.5"
  }
 },
 "nbformat": 4,
 "nbformat_minor": 4
}
